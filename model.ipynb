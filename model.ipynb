import pandas as pd
from sklearn.model_selection import train_test_split
from sklearn.linear_model import LinearRegression
from sklearn.metrics import mean_squared_error
from sklearn.preprocessing import StandardScaler

# Load the training dataset
train_data = pd.read_csv('train.csv')

# Select relevant features (square footage, number of bedrooms, and number of bathrooms)
features = ['GrLivArea', 'BedroomAbvGr', 'FullBath', 'HalfBath']

# Extract features and target variable
X = train_data[features]
y = train_data['SalePrice']

# Split the data into training and testing sets
X_train, X_test, y_train, y_test = train_test_split(X, y, test_size=0.2, random_state=42)

# Standardize the features
scaler = StandardScaler()
X_train_scaled = scaler.fit_transform(X_train)
X_test_scaled = scaler.transform(X_test)

# Initialize the linear regression model
model = LinearRegression()

# Train the model
model.fit(X_train_scaled, y_train)

# Make predictions on the test set
predictions = model.predict(X_test_scaled)

# Evaluate the model performance
mse = mean_squared_error(y_test, predictions)
print(f'Mean Squared Error: {mse}')

# Now, you can use the trained model to make predictions on the test set or new data.
# For example, if you have a test dataset (test.csv), you can load it and use the model as follows:
# test_data = pd.read_csv('test.csv')
# test_features = test_data[features]
# test_features_scaled = scaler.transform(test_features)
# test_predictions = model.predict(test_features_scaled)
